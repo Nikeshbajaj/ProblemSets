{
 "cells": [
  {
   "cell_type": "markdown",
   "metadata": {
    "toc": true
   },
   "source": [
    "<h1>Table of Contents<span class=\"tocSkip\"></span></h1>\n",
    "<div class=\"toc\"><ul class=\"toc-item\"><li><span><a href=\"#Problem:-Properly-Nasted-String\" data-toc-modified-id=\"Problem:-Properly-Nasted-String-1\"><span class=\"toc-item-num\">1&nbsp;&nbsp;</span>Problem: Properly Nasted String</a></span></li><li><span><a href=\"#Solution---PNST-Algorithm--Properly-Nested-String-Test\" data-toc-modified-id=\"Solution---PNST-Algorithm--Properly-Nested-String-Test-2\"><span class=\"toc-item-num\">2&nbsp;&nbsp;</span>Solution - PNST Algorithm- Properly Nested String Test</a></span></li><li><span><a href=\"#Test-cases\" data-toc-modified-id=\"Test-cases-3\"><span class=\"toc-item-num\">3&nbsp;&nbsp;</span>Test cases</a></span></li><li><span><a href=\"#Comments-on-complexity\" data-toc-modified-id=\"Comments-on-complexity-4\"><span class=\"toc-item-num\">4&nbsp;&nbsp;</span>Comments on complexity</a></span><ul class=\"toc-item\"><li><span><a href=\"#Computational-complexity\" data-toc-modified-id=\"Computational-complexity-4.1\"><span class=\"toc-item-num\">4.1&nbsp;&nbsp;</span>Computational complexity</a></span></li><li><span><a href=\"#Space-complexity\" data-toc-modified-id=\"Space-complexity-4.2\"><span class=\"toc-item-num\">4.2&nbsp;&nbsp;</span>Space complexity</a></span></li></ul></li></ul></div>"
   ]
  },
  {
   "cell_type": "markdown",
   "metadata": {},
   "source": [
    "# Problem: Properly Nasted String"
   ]
  },
  {
   "cell_type": "markdown",
   "metadata": {},
   "source": [
    "A string S consisting of N characters is considered to be properly nested if any of the following\n",
    "conditions is true:\n",
    "* S is empty;\n",
    "* S has the form \"(U)\" or \"[U]\" or \"{U}\" where U is a properly nested string;\n",
    "* S has the form \"VW\" where V and W are properly nested strings.\n",
    "\n",
    "The assumptions are:\n",
    "* N is a positive integer (Obviously);\n",
    "* String S consists only of the following characters: \"(\", \"{\", \"[\", \"]\", \"}\" and/or \")\".\n",
    "\n",
    "For example, given S = \"{[()()]}\", the function should return 1 (True). For S = \"([)()]\", the function should\n",
    "return 0 (False), as explained above."
   ]
  },
  {
   "cell_type": "markdown",
   "metadata": {},
   "source": [
    "# Solution - PNST Algorithm- Properly Nested String Test"
   ]
  },
  {
   "cell_type": "code",
   "execution_count": 1,
   "metadata": {
    "ExecuteTime": {
     "end_time": "2019-05-23T14:37:33.026634Z",
     "start_time": "2019-05-23T14:37:33.009457Z"
    }
   },
   "outputs": [],
   "source": [
    "def PNST(S,verbose=False):\n",
    "    '''\n",
    "    # Author  :: Nikesh Bajaj\n",
    "    PNST Algorithm- Properly Nested String Test\n",
    "    Test whether given string S is propoerly nested or not, \n",
    "    given that S contains only following characters: '\"(\", \"{\", \"[\", \"]\", \"}\" \")\" or empty\n",
    "    \n",
    "    if S contains any alpha nuemeric characters, it can be removed easily before applying PNST algo    \n",
    "    \n",
    "    Input\n",
    "    -------\n",
    "    S : string - input string to be tested         \n",
    "    verbose: bool -  vverbosity of tests at each iteration\n",
    "    \n",
    "    Output\n",
    "    -------\n",
    "    test: Bool - True if string S is properly nasted else False\n",
    "    \n",
    "    '''\n",
    "    N = len(S)\n",
    "    if verbose: print('S: ',S, ' Length: ',N )\n",
    "    S =S.replace('[]','').replace('()','').replace('{}','')\n",
    "    if verbose: print(S)\n",
    "    test = False\n",
    "    while not(test):\n",
    "        S1 = S\n",
    "        S =S.replace('[]','').replace('()','').replace('{}','')\n",
    "        if verbose: print(S1,S)\n",
    "        if S==S1:\n",
    "            test =True\n",
    "    test=True if len(S)==0 else False\n",
    "            \n",
    "    if verbose: print('Solution',test,S,S1,len(S),len(S1))\n",
    "    \n",
    "    return test"
   ]
  },
  {
   "cell_type": "markdown",
   "metadata": {},
   "source": [
    "# Test cases"
   ]
  },
  {
   "cell_type": "code",
   "execution_count": 9,
   "metadata": {
    "ExecuteTime": {
     "end_time": "2019-05-23T14:11:09.031923Z",
     "start_time": "2019-05-23T14:11:09.025919Z"
    }
   },
   "outputs": [],
   "source": [
    "S0 = '{[()()]}'\n",
    "S1 = \"([)()]\"\n",
    "S2 = '{[()((]}'\n",
    "S3 ='(()((())()))'\n",
    "S4 ='(()()(()'\n",
    "S5 ='{{([][])}()}'\n",
    "S6 ='[[{{(())}}]]'\n",
    "S7 ='[][][](){}'\n",
    "S8 ='[][][](){}[[{{(())}}]](()((())()))([)()]{[()()]}'\n",
    "S9 ='[][][](){}[[{{(())}}]](()((())()))([])()[]{[()()]}'\n",
    "S10 = '()()()(){}{}{}{}[][][]()()()()[]{}'     # Computationally best case scenario for given algorithm\n",
    "S11 ='(((({([(({([[[(())]]])}))])}))))'        # Computationally worst case scenario for given algorithm\n"
   ]
  },
  {
   "cell_type": "code",
   "execution_count": 10,
   "metadata": {
    "ExecuteTime": {
     "end_time": "2019-05-23T14:11:10.218903Z",
     "start_time": "2019-05-23T14:11:10.213952Z"
    }
   },
   "outputs": [],
   "source": [
    "S = [S0,S1,S2,S3,S4,S5,S6,S7,S8,S9,S10,S11]"
   ]
  },
  {
   "cell_type": "code",
   "execution_count": 11,
   "metadata": {
    "ExecuteTime": {
     "end_time": "2019-05-23T14:11:11.466605Z",
     "start_time": "2019-05-23T14:11:11.453041Z"
    }
   },
   "outputs": [
    {
     "name": "stdout",
     "output_type": "stream",
     "text": [
      "S:  {[()()]}\n",
      "Properly nested?  True\n",
      "\n",
      "S:  ([)()]\n",
      "Properly nested?  False\n",
      "\n",
      "S:  {[()((]}\n",
      "Properly nested?  False\n",
      "\n",
      "S:  (()((())()))\n",
      "Properly nested?  True\n",
      "\n",
      "S:  (()()(()\n",
      "Properly nested?  False\n",
      "\n",
      "S:  {{([][])}()}\n",
      "Properly nested?  True\n",
      "\n",
      "S:  [[{{(())}}]]\n",
      "Properly nested?  True\n",
      "\n",
      "S:  [][][](){}\n",
      "Properly nested?  True\n",
      "\n",
      "S:  [][][](){}[[{{(())}}]](()((())()))([)()]{[()()]}\n",
      "Properly nested?  False\n",
      "\n",
      "S:  [][][](){}[[{{(())}}]](()((())()))([])()[]{[()()]}\n",
      "Properly nested?  True\n",
      "\n",
      "S:  ()()()(){}{}{}{}[][][]()()()()[]{}\n",
      "Properly nested?  True\n",
      "\n",
      "S:  (((({([(({([[[(())]]])}))])}))))\n",
      "Properly nested?  True\n",
      "\n"
     ]
    }
   ],
   "source": [
    "for s in S:\n",
    "    print('S: ',s)\n",
    "    print('Properly nested? ',PNST(s))\n",
    "    print('')"
   ]
  },
  {
   "cell_type": "markdown",
   "metadata": {},
   "source": [
    "# Comments on complexity"
   ]
  },
  {
   "cell_type": "markdown",
   "metadata": {},
   "source": [
    "## Computational complexity"
   ]
  },
  {
   "cell_type": "markdown",
   "metadata": {},
   "source": [
    "Since while loop is at least removing 2 characters at a time and stops if nothing can be removed, loop will be runing atmost N/2 times and at least 0 times. Hence O(N) "
   ]
  },
  {
   "cell_type": "markdown",
   "metadata": {},
   "source": [
    "## Space complexity"
   ]
  },
  {
   "cell_type": "markdown",
   "metadata": {},
   "source": [
    "For this algorithm, we are using a copy of input simuntanseuly, nothing extra. Hence O(N) "
   ]
  },
  {
   "cell_type": "markdown",
   "metadata": {},
   "source": [
    "---\n",
    "---\n",
    "**PNST Algorithm:: Properly Nested String Test**\n",
    "\n",
    "**Nikesh Bajaj**\n",
    "\n",
    "**Contact :: http://nikeshbajaj.in, bajaj.nikkey@gmail.com**"
   ]
  }
 ],
 "metadata": {
  "kernelspec": {
   "display_name": "Python 3",
   "language": "python",
   "name": "python3"
  },
  "language_info": {
   "codemirror_mode": {
    "name": "ipython",
    "version": 3
   },
   "file_extension": ".py",
   "mimetype": "text/x-python",
   "name": "python",
   "nbconvert_exporter": "python",
   "pygments_lexer": "ipython3",
   "version": "3.7.1"
  },
  "toc": {
   "base_numbering": 1,
   "nav_menu": {},
   "number_sections": true,
   "sideBar": true,
   "skip_h1_title": false,
   "title_cell": "Table of Contents",
   "title_sidebar": "Contents",
   "toc_cell": true,
   "toc_position": {},
   "toc_section_display": true,
   "toc_window_display": true
  }
 },
 "nbformat": 4,
 "nbformat_minor": 2
}
