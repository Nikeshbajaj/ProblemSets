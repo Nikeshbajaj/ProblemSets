{
 "cells": [
  {
   "cell_type": "markdown",
   "metadata": {},
   "source": [
    "# Movie Lense data:: Latest small data"
   ]
  },
  {
   "cell_type": "markdown",
   "metadata": {},
   "source": [
    "In this exercise, I am chose **MovieLens Dataset** *(ml-latest-small)*. First I explore the given dataset by plotting the distribution, rating, and observing the different examples. In this exercise, I am showing only, a few observation which makes sense.\n",
    "\n",
    "The data is very clean.\n",
    "\n",
    "For Machine Learning system, I used Collaborative Filtering using SVD (Singular-value Decomposition) and KNN (k-Nearest Neighbors). The reason I started with these two approaches, is to establish the baseline for a system. I tried an attempt with Deeplearning model to train Embedding matrix, which, in principle should work better. I could not finish the Deeplearning model. \n",
    "\n",
    "For a model evaluation, I computed Root Mean Square Error (RMSE) and Mean Absolute Error (MAE) with 5-fold cross-validation.\n",
    "\n",
    "Apart from a lialg library, I used a library -scikit-surprise for SVD and KNN model with k-fold, and Keras for deeplearning.\n",
    "\n",
    "Once a model is trained, it is straightforward to get a list of recommendations for a user, I did not spend a lot of time to print the recommendation in a very nice way."
   ]
  },
  {
   "cell_type": "markdown",
   "metadata": {
    "toc": true
   },
   "source": [
    "<h1>Table of Contents<span class=\"tocSkip\"></span></h1>\n",
    "<div class=\"toc\"><ul class=\"toc-item\"><li><span><a href=\"#Loading-and-understadning-the-data\" data-toc-modified-id=\"Loading-and-understadning-the-data-1\"><span class=\"toc-item-num\">1&nbsp;&nbsp;</span>Loading and understadning the data</a></span></li><li><span><a href=\"#Distribuation-of-users'-rating,-movies'-rating-and-rating-scale\" data-toc-modified-id=\"Distribuation-of-users'-rating,-movies'-rating-and-rating-scale-2\"><span class=\"toc-item-num\">2&nbsp;&nbsp;</span>Distribuation of users' rating, movies' rating and rating scale</a></span><ul class=\"toc-item\"><li><span><a href=\"#Top-5-movies-that-User-'u'-liked\" data-toc-modified-id=\"Top-5-movies-that-User-'u'-liked-2.1\"><span class=\"toc-item-num\">2.1&nbsp;&nbsp;</span>Top 5 movies that User 'u' liked</a></span></li></ul></li><li><span><a href=\"#Creating-a-Rating-matrix---(user,-movie)\" data-toc-modified-id=\"Creating-a-Rating-matrix---(user,-movie)-3\"><span class=\"toc-item-num\">3&nbsp;&nbsp;</span>Creating a Rating matrix - (user, movie)</a></span><ul class=\"toc-item\"><li><span><a href=\"#Content-based-recommender-system\" data-toc-modified-id=\"Content-based-recommender-system-3.1\"><span class=\"toc-item-num\">3.1&nbsp;&nbsp;</span>Content based recommender system</a></span></li></ul></li><li><span><a href=\"#Collaborative-Filter-Recommender-Systems\" data-toc-modified-id=\"Collaborative-Filter-Recommender-Systems-4\"><span class=\"toc-item-num\">4&nbsp;&nbsp;</span>Collaborative Filter Recommender Systems</a></span><ul class=\"toc-item\"><li><span><a href=\"#Using-SVD\" data-toc-modified-id=\"Using-SVD-4.1\"><span class=\"toc-item-num\">4.1&nbsp;&nbsp;</span>Using SVD</a></span></li><li><span><a href=\"#Using-KNN\" data-toc-modified-id=\"Using-KNN-4.2\"><span class=\"toc-item-num\">4.2&nbsp;&nbsp;</span>Using KNN</a></span></li></ul></li><li><span><a href=\"#Recommonding-the-movies-to-user-'u'\" data-toc-modified-id=\"Recommonding-the-movies-to-user-'u'-5\"><span class=\"toc-item-num\">5&nbsp;&nbsp;</span>Recommonding the movies to user <em>'u'</em></a></span></li><li><span><a href=\"#Deeplearning-approach-using-Embedding---Not-Finished\" data-toc-modified-id=\"Deeplearning-approach-using-Embedding---Not-Finished-6\"><span class=\"toc-item-num\">6&nbsp;&nbsp;</span>Deeplearning approach using Embedding-- Not Finished</a></span></li></ul></div>"
   ]
  },
  {
   "cell_type": "code",
   "execution_count": 6,
   "metadata": {
    "ExecuteTime": {
     "end_time": "2019-04-15T04:21:35.221890Z",
     "start_time": "2019-04-15T04:21:34.892130Z"
    }
   },
   "outputs": [],
   "source": [
    "import numpy as np\n",
    "import pandas as pd\n",
    "import matplotlib.pyplot as plt\n",
    "import seaborn as sns"
   ]
  },
  {
   "cell_type": "markdown",
   "metadata": {},
   "source": [
    "## Loading and understadning the data"
   ]
  },
  {
   "cell_type": "code",
   "execution_count": 7,
   "metadata": {
    "ExecuteTime": {
     "end_time": "2019-04-15T04:21:36.694095Z",
     "start_time": "2019-04-15T04:21:36.123093Z"
    }
   },
   "outputs": [],
   "source": [
    "ratings = pd.read_csv('../Datasets/ml-latest-small/ratings.csv')\n",
    "movies  = pd.read_csv('../Datasets/ml-latest-small/movies.csv')\n",
    "tags    = pd.read_csv('../Datasets/ml-latest-small/tags.csv')\n",
    "links   = pd.read_csv('../Datasets/ml-latest-small/links.csv')"
   ]
  },
  {
   "cell_type": "code",
   "execution_count": 3,
   "metadata": {
    "ExecuteTime": {
     "end_time": "2019-04-15T03:03:41.280916Z",
     "start_time": "2019-04-15T03:03:41.208379Z"
    }
   },
   "outputs": [
    {
     "data": {
      "text/html": [
       "<div>\n",
       "<style scoped>\n",
       "    .dataframe tbody tr th:only-of-type {\n",
       "        vertical-align: middle;\n",
       "    }\n",
       "\n",
       "    .dataframe tbody tr th {\n",
       "        vertical-align: top;\n",
       "    }\n",
       "\n",
       "    .dataframe thead th {\n",
       "        text-align: right;\n",
       "    }\n",
       "</style>\n",
       "<table border=\"1\" class=\"dataframe\">\n",
       "  <thead>\n",
       "    <tr style=\"text-align: right;\">\n",
       "      <th></th>\n",
       "      <th>userId</th>\n",
       "      <th>movieId</th>\n",
       "      <th>rating</th>\n",
       "      <th>timestamp</th>\n",
       "    </tr>\n",
       "  </thead>\n",
       "  <tbody>\n",
       "    <tr>\n",
       "      <th>0</th>\n",
       "      <td>1</td>\n",
       "      <td>1</td>\n",
       "      <td>4.0</td>\n",
       "      <td>964982703</td>\n",
       "    </tr>\n",
       "    <tr>\n",
       "      <th>1</th>\n",
       "      <td>1</td>\n",
       "      <td>3</td>\n",
       "      <td>4.0</td>\n",
       "      <td>964981247</td>\n",
       "    </tr>\n",
       "    <tr>\n",
       "      <th>2</th>\n",
       "      <td>1</td>\n",
       "      <td>6</td>\n",
       "      <td>4.0</td>\n",
       "      <td>964982224</td>\n",
       "    </tr>\n",
       "    <tr>\n",
       "      <th>3</th>\n",
       "      <td>1</td>\n",
       "      <td>47</td>\n",
       "      <td>5.0</td>\n",
       "      <td>964983815</td>\n",
       "    </tr>\n",
       "    <tr>\n",
       "      <th>4</th>\n",
       "      <td>1</td>\n",
       "      <td>50</td>\n",
       "      <td>5.0</td>\n",
       "      <td>964982931</td>\n",
       "    </tr>\n",
       "  </tbody>\n",
       "</table>\n",
       "</div>"
      ],
      "text/plain": [
       "   userId  movieId  rating  timestamp\n",
       "0       1        1     4.0  964982703\n",
       "1       1        3     4.0  964981247\n",
       "2       1        6     4.0  964982224\n",
       "3       1       47     5.0  964983815\n",
       "4       1       50     5.0  964982931"
      ]
     },
     "metadata": {},
     "output_type": "display_data"
    },
    {
     "data": {
      "text/html": [
       "<div>\n",
       "<style scoped>\n",
       "    .dataframe tbody tr th:only-of-type {\n",
       "        vertical-align: middle;\n",
       "    }\n",
       "\n",
       "    .dataframe tbody tr th {\n",
       "        vertical-align: top;\n",
       "    }\n",
       "\n",
       "    .dataframe thead th {\n",
       "        text-align: right;\n",
       "    }\n",
       "</style>\n",
       "<table border=\"1\" class=\"dataframe\">\n",
       "  <thead>\n",
       "    <tr style=\"text-align: right;\">\n",
       "      <th></th>\n",
       "      <th>movieId</th>\n",
       "      <th>title</th>\n",
       "      <th>genres</th>\n",
       "    </tr>\n",
       "  </thead>\n",
       "  <tbody>\n",
       "    <tr>\n",
       "      <th>0</th>\n",
       "      <td>1</td>\n",
       "      <td>Toy Story (1995)</td>\n",
       "      <td>Adventure|Animation|Children|Comedy|Fantasy</td>\n",
       "    </tr>\n",
       "    <tr>\n",
       "      <th>1</th>\n",
       "      <td>2</td>\n",
       "      <td>Jumanji (1995)</td>\n",
       "      <td>Adventure|Children|Fantasy</td>\n",
       "    </tr>\n",
       "    <tr>\n",
       "      <th>2</th>\n",
       "      <td>3</td>\n",
       "      <td>Grumpier Old Men (1995)</td>\n",
       "      <td>Comedy|Romance</td>\n",
       "    </tr>\n",
       "    <tr>\n",
       "      <th>3</th>\n",
       "      <td>4</td>\n",
       "      <td>Waiting to Exhale (1995)</td>\n",
       "      <td>Comedy|Drama|Romance</td>\n",
       "    </tr>\n",
       "    <tr>\n",
       "      <th>4</th>\n",
       "      <td>5</td>\n",
       "      <td>Father of the Bride Part II (1995)</td>\n",
       "      <td>Comedy</td>\n",
       "    </tr>\n",
       "  </tbody>\n",
       "</table>\n",
       "</div>"
      ],
      "text/plain": [
       "   movieId                               title  \\\n",
       "0        1                    Toy Story (1995)   \n",
       "1        2                      Jumanji (1995)   \n",
       "2        3             Grumpier Old Men (1995)   \n",
       "3        4            Waiting to Exhale (1995)   \n",
       "4        5  Father of the Bride Part II (1995)   \n",
       "\n",
       "                                        genres  \n",
       "0  Adventure|Animation|Children|Comedy|Fantasy  \n",
       "1                   Adventure|Children|Fantasy  \n",
       "2                               Comedy|Romance  \n",
       "3                         Comedy|Drama|Romance  \n",
       "4                                       Comedy  "
      ]
     },
     "metadata": {},
     "output_type": "display_data"
    },
    {
     "data": {
      "text/html": [
       "<div>\n",
       "<style scoped>\n",
       "    .dataframe tbody tr th:only-of-type {\n",
       "        vertical-align: middle;\n",
       "    }\n",
       "\n",
       "    .dataframe tbody tr th {\n",
       "        vertical-align: top;\n",
       "    }\n",
       "\n",
       "    .dataframe thead th {\n",
       "        text-align: right;\n",
       "    }\n",
       "</style>\n",
       "<table border=\"1\" class=\"dataframe\">\n",
       "  <thead>\n",
       "    <tr style=\"text-align: right;\">\n",
       "      <th></th>\n",
       "      <th>userId</th>\n",
       "      <th>movieId</th>\n",
       "      <th>tag</th>\n",
       "      <th>timestamp</th>\n",
       "    </tr>\n",
       "  </thead>\n",
       "  <tbody>\n",
       "    <tr>\n",
       "      <th>0</th>\n",
       "      <td>2</td>\n",
       "      <td>60756</td>\n",
       "      <td>funny</td>\n",
       "      <td>1445714994</td>\n",
       "    </tr>\n",
       "    <tr>\n",
       "      <th>1</th>\n",
       "      <td>2</td>\n",
       "      <td>60756</td>\n",
       "      <td>Highly quotable</td>\n",
       "      <td>1445714996</td>\n",
       "    </tr>\n",
       "    <tr>\n",
       "      <th>2</th>\n",
       "      <td>2</td>\n",
       "      <td>60756</td>\n",
       "      <td>will ferrell</td>\n",
       "      <td>1445714992</td>\n",
       "    </tr>\n",
       "    <tr>\n",
       "      <th>3</th>\n",
       "      <td>2</td>\n",
       "      <td>89774</td>\n",
       "      <td>Boxing story</td>\n",
       "      <td>1445715207</td>\n",
       "    </tr>\n",
       "    <tr>\n",
       "      <th>4</th>\n",
       "      <td>2</td>\n",
       "      <td>89774</td>\n",
       "      <td>MMA</td>\n",
       "      <td>1445715200</td>\n",
       "    </tr>\n",
       "  </tbody>\n",
       "</table>\n",
       "</div>"
      ],
      "text/plain": [
       "   userId  movieId              tag   timestamp\n",
       "0       2    60756            funny  1445714994\n",
       "1       2    60756  Highly quotable  1445714996\n",
       "2       2    60756     will ferrell  1445714992\n",
       "3       2    89774     Boxing story  1445715207\n",
       "4       2    89774              MMA  1445715200"
      ]
     },
     "metadata": {},
     "output_type": "display_data"
    }
   ],
   "source": [
    "display(ratings.head())\n",
    "display(movies.head())\n",
    "display(tags.head())"
   ]
  },
  {
   "cell_type": "code",
   "execution_count": 9,
   "metadata": {
    "ExecuteTime": {
     "end_time": "2019-04-15T04:31:19.005476Z",
     "start_time": "2019-04-15T04:31:18.992698Z"
    }
   },
   "outputs": [
    {
     "name": "stdout",
     "output_type": "stream",
     "text": [
      "Number of Users: 610| Number of Movies: 9742\n",
      "Number of total ratings :  100836\n",
      "Rating scale :  [0.5 1.  1.5 2.  2.5 3.  3.5 4.  4.5 5. ]\n"
     ]
    }
   ],
   "source": [
    "nUsers  = len(ratings.userId.unique())\n",
    "nMovies = len(movies.movieId.unique())\n",
    "print('Number of Users: '+ str(nUsers) + '| Number of Movies: ' + str(nMovies))\n",
    "print('Number of total ratings : ',ratings.shape[0])\n",
    "print('Rating scale : ' , np.sort(ratings.rating.unique()))"
   ]
  },
  {
   "cell_type": "code",
   "execution_count": 5,
   "metadata": {
    "ExecuteTime": {
     "end_time": "2019-04-15T03:03:42.509634Z",
     "start_time": "2019-04-15T03:03:42.501937Z"
    }
   },
   "outputs": [],
   "source": [
    "Uid, Frq = np.unique(ratings.userId, return_counts=True)"
   ]
  },
  {
   "cell_type": "markdown",
   "metadata": {},
   "source": [
    "## Distribuation of users' rating, movies' rating and rating scale"
   ]
  },
  {
   "cell_type": "code",
   "execution_count": 7,
   "metadata": {
    "ExecuteTime": {
     "end_time": "2019-04-15T03:03:53.621393Z",
     "start_time": "2019-04-15T03:03:52.920652Z"
    }
   },
   "outputs": [
    {
     "data": {
      "image/png": "[encoded data removed]",
      "text/plain": [
       "<Figure size 1080x216 with 3 Axes>"
      ]
     },
     "metadata": {
      "needs_background": "light"
     },
     "output_type": "display_data"
    }
   ],
   "source": [
    "plt.figure(figsize=(15,3))\n",
    "plt.subplot(131)\n",
    "sns.distplot(np.array(ratings.userId))\n",
    "plt.xlabel('Users')\n",
    "plt.subplot(132)\n",
    "sns.distplot(np.array(ratings.movieId))\n",
    "plt.xlabel('Movies')\n",
    "plt.subplot(133)\n",
    "sns.distplot(np.array(ratings.rating))\n",
    "plt.xlabel('Rating')\n",
    "plt.show()"
   ]
  },
  {
   "cell_type": "markdown",
   "metadata": {
    "ExecuteTime": {
     "end_time": "2019-04-15T03:29:17.735841Z",
     "start_time": "2019-04-15T03:29:17.731585Z"
    }
   },
   "source": [
    "### Top 5 movies that User 'u' liked"
   ]
  },
  {
   "cell_type": "code",
   "execution_count": 80,
   "metadata": {
    "ExecuteTime": {
     "end_time": "2019-04-15T03:36:20.427993Z",
     "start_time": "2019-04-15T03:36:20.409629Z"
    }
   },
   "outputs": [
    {
     "data": {
      "text/html": [
       "<div>\n",
       "<style scoped>\n",
       "    .dataframe tbody tr th:only-of-type {\n",
       "        vertical-align: middle;\n",
       "    }\n",
       "\n",
       "    .dataframe tbody tr th {\n",
       "        vertical-align: top;\n",
       "    }\n",
       "\n",
       "    .dataframe thead th {\n",
       "        text-align: right;\n",
       "    }\n",
       "</style>\n",
       "<table border=\"1\" class=\"dataframe\">\n",
       "  <thead>\n",
       "    <tr style=\"text-align: right;\">\n",
       "      <th></th>\n",
       "      <th>movieId</th>\n",
       "      <th>title</th>\n",
       "      <th>genres</th>\n",
       "    </tr>\n",
       "  </thead>\n",
       "  <tbody>\n",
       "    <tr>\n",
       "      <th>839</th>\n",
       "      <td>1101</td>\n",
       "      <td>Top Gun (1986)</td>\n",
       "      <td>Action|Romance</td>\n",
       "    </tr>\n",
       "    <tr>\n",
       "      <th>1435</th>\n",
       "      <td>1958</td>\n",
       "      <td>Terms of Endearment (1983)</td>\n",
       "      <td>Comedy|Drama</td>\n",
       "    </tr>\n",
       "    <tr>\n",
       "      <th>1823</th>\n",
       "      <td>2423</td>\n",
       "      <td>Christmas Vacation (National Lampoon's Christm...</td>\n",
       "      <td>Comedy</td>\n",
       "    </tr>\n",
       "    <tr>\n",
       "      <th>3022</th>\n",
       "      <td>4041</td>\n",
       "      <td>Officer and a Gentleman, An (1982)</td>\n",
       "      <td>Drama|Romance</td>\n",
       "    </tr>\n",
       "    <tr>\n",
       "      <th>3986</th>\n",
       "      <td>5620</td>\n",
       "      <td>Sweet Home Alabama (2002)</td>\n",
       "      <td>Comedy|Romance</td>\n",
       "    </tr>\n",
       "  </tbody>\n",
       "</table>\n",
       "</div>"
      ],
      "text/plain": [
       "      movieId                                              title  \\\n",
       "839      1101                                     Top Gun (1986)   \n",
       "1435     1958                         Terms of Endearment (1983)   \n",
       "1823     2423  Christmas Vacation (National Lampoon's Christm...   \n",
       "3022     4041                 Officer and a Gentleman, An (1982)   \n",
       "3986     5620                          Sweet Home Alabama (2002)   \n",
       "\n",
       "              genres  \n",
       "839   Action|Romance  \n",
       "1435    Comedy|Drama  \n",
       "1823          Comedy  \n",
       "3022   Drama|Romance  \n",
       "3986  Comedy|Romance  "
      ]
     },
     "execution_count": 80,
     "metadata": {},
     "output_type": "execute_result"
    }
   ],
   "source": [
    "u = 100\n",
    "ru = ratings[ratings.userId ==u].sort_values('rating',ascending = False)\n",
    "movies[movies.movieId.isin(list(ru.movieId)[:5])]"
   ]
  },
  {
   "cell_type": "markdown",
   "metadata": {},
   "source": [
    "The distribuation of of users' rating shows a few users have rated more number of movies, while movies' rating shows a few movies are rated quite a lot than others. The distribuation of ratings shows that in the data, moviews with lowest rating are quite a few. "
   ]
  },
  {
   "cell_type": "markdown",
   "metadata": {},
   "source": [
    "## Creating a Rating matrix - (user, movie)"
   ]
  },
  {
   "cell_type": "markdown",
   "metadata": {},
   "source": [
    "Creating a matrix R, where each uses is on row and all the movies are on the coulumn."
   ]
  },
  {
   "cell_type": "code",
   "execution_count": 8,
   "metadata": {
    "ExecuteTime": {
     "end_time": "2019-04-15T03:03:56.771131Z",
     "start_time": "2019-04-15T03:03:56.453038Z"
    }
   },
   "outputs": [
    {
     "data": {
      "text/plain": [
       "(610, 9724)"
      ]
     },
     "execution_count": 8,
     "metadata": {},
     "output_type": "execute_result"
    }
   ],
   "source": [
    "R = ratings.pivot(index = 'userId', columns ='movieId', values = 'rating').fillna(0)\n",
    "Rmat = np.array(R)\n",
    "R.shape"
   ]
  },
  {
   "cell_type": "markdown",
   "metadata": {
    "ExecuteTime": {
     "end_time": "2019-04-15T01:53:43.203194Z",
     "start_time": "2019-04-15T01:53:43.195834Z"
    }
   },
   "source": [
    "**Sparsity of rating matrix**"
   ]
  },
  {
   "cell_type": "code",
   "execution_count": 9,
   "metadata": {
    "ExecuteTime": {
     "end_time": "2019-04-15T03:03:58.088120Z",
     "start_time": "2019-04-15T03:03:58.065578Z"
    }
   },
   "outputs": [
    {
     "name": "stdout",
     "output_type": "stream",
     "text": [
      "Density  of R:  0.016999683055613623\n",
      "Sparsity of R:  0.9830003169443864\n"
     ]
    }
   ],
   "source": [
    "Density  = np.sum(Rmat>0)/(Rmat.shape[0]*Rmat.shape[1])\n",
    "Sparsity = 1 - Density\n",
    "print('Density  of R: ',Density)\n",
    "print('Sparsity of R: ',Sparsity)"
   ]
  },
  {
   "cell_type": "markdown",
   "metadata": {},
   "source": [
    "# Types of recommender systems\n",
    "\n",
    "### Content based recommender system\n",
    "In this kind of system, user get recommendations to use the items which are similar to the items user uses. This kind of recommender system is easy to built, by computing the similarity between items (movies in this case). Given the genre of movies, a similar movies can be recommended to a user\n",
    "\n",
    "I will explore Collaborative filter approach, which is explained below\n"
   ]
  },
  {
   "cell_type": "markdown",
   "metadata": {
    "ExecuteTime": {
     "end_time": "2019-04-15T02:05:32.674031Z",
     "start_time": "2019-04-15T02:05:32.664463Z"
    }
   },
   "source": [
    "## Collaborative Filter Recommender Systems"
   ]
  },
  {
   "cell_type": "markdown",
   "metadata": {},
   "source": [
    "Collabrorative filtering (CL) approach is very interesting, in the practical sense. In my opinion, this is how we usually explore new things.\n",
    "\n",
    "The assumption of CL approach is that if two people have same opinion on an issue, they are likely to have similar opinion on another issue too. In other words, in person A and B, both liked a movie, then other movies liked by person B can be recommended to person A.   \n",
    "\n",
    "For collaborative filtering, I am using a SVD and KNN approach from the surprise package. \n",
    "The CL transforms user-item interactions into latent space, and reconstructs the user-item matrix to predict the ratings of missing movie."
   ]
  },
  {
   "cell_type": "markdown",
   "metadata": {},
   "source": [
    "###  Using SVD"
   ]
  },
  {
   "cell_type": "code",
   "execution_count": 10,
   "metadata": {
    "ExecuteTime": {
     "end_time": "2019-04-15T03:04:00.277946Z",
     "start_time": "2019-04-15T03:04:00.271463Z"
    }
   },
   "outputs": [],
   "source": [
    "from scipy.sparse.linalg import svds"
   ]
  },
  {
   "cell_type": "code",
   "execution_count": 11,
   "metadata": {
    "ExecuteTime": {
     "end_time": "2019-04-15T03:04:02.619161Z",
     "start_time": "2019-04-15T03:04:02.544124Z"
    }
   },
   "outputs": [],
   "source": [
    "Umean = np.mean(Rmat,axis=1)\n",
    "Rmean = Rmat - Umean[:,None]"
   ]
  },
  {
   "cell_type": "markdown",
   "metadata": {},
   "source": [
    "**SVD decomposition**"
   ]
  },
  {
   "cell_type": "code",
   "execution_count": 12,
   "metadata": {
    "ExecuteTime": {
     "end_time": "2019-04-15T03:04:06.055466Z",
     "start_time": "2019-04-15T03:04:04.160034Z"
    }
   },
   "outputs": [],
   "source": [
    "U, S, Vt = svds(Rmean, k = 100)\n",
    "S = np.diag(S)"
   ]
  },
  {
   "cell_type": "markdown",
   "metadata": {},
   "source": [
    " **Estimation of matrix**"
   ]
  },
  {
   "cell_type": "code",
   "execution_count": 13,
   "metadata": {
    "ExecuteTime": {
     "end_time": "2019-04-15T03:04:06.112864Z",
     "start_time": "2019-04-15T03:04:06.057392Z"
    }
   },
   "outputs": [],
   "source": [
    "Rest = np.dot(np.dot(U, S), Vt) + Umean[:,None]"
   ]
  },
  {
   "cell_type": "markdown",
   "metadata": {},
   "source": [
    "**RMSE and MAE of estimated matrix, only for non-zero values of original data**"
   ]
  },
  {
   "cell_type": "code",
   "execution_count": 21,
   "metadata": {
    "ExecuteTime": {
     "end_time": "2019-04-15T03:06:43.008295Z",
     "start_time": "2019-04-15T03:06:42.863674Z"
    }
   },
   "outputs": [
    {
     "name": "stdout",
     "output_type": "stream",
     "text": [
      "RMSE with SVD :  1.5815694472113941\n",
      "MAE  with SVD :  1.0775320646626771\n"
     ]
    }
   ],
   "source": [
    "RMSE = np.sqrt(np.mean((Rmat[Rmat>0] - Rest[Rmat>0])**2))\n",
    "MAE = np.mean(abs(Rmat[Rmat>0] - Rest[Rmat>0]))\n",
    "print('RMSE with SVD : ',RMSE)\n",
    "print('MAE  with SVD : ',MAE)"
   ]
  },
  {
   "cell_type": "code",
   "execution_count": 15,
   "metadata": {
    "ExecuteTime": {
     "end_time": "2019-04-15T03:04:09.093518Z",
     "start_time": "2019-04-15T03:04:08.783891Z"
    }
   },
   "outputs": [
    {
     "data": {
      "image/png": "[encoded data removed]",
      "text/plain": [
       "<Figure size 432x288 with 1 Axes>"
      ]
     },
     "metadata": {
      "needs_background": "light"
     },
     "output_type": "display_data"
    }
   ],
   "source": [
    "plt.plot(Rmat[0,:], label='user''s rating')\n",
    "plt.plot(Rest[0,:], label='estimation')\n",
    "plt.xlabel('MovieId')\n",
    "plt.ylabel('Rating')\n",
    "plt.legend()\n",
    "plt.show()"
   ]
  },
  {
   "cell_type": "markdown",
   "metadata": {},
   "source": [
    "**SVD seems to estimate the rating quite close to original, though for proper evalaution, we need to split the data into training and tesing, foe which we use surprise library**"
   ]
  },
  {
   "cell_type": "code",
   "execution_count": 16,
   "metadata": {
    "ExecuteTime": {
     "end_time": "2019-04-15T03:04:13.649243Z",
     "start_time": "2019-04-15T03:04:13.039969Z"
    }
   },
   "outputs": [],
   "source": [
    "from surprise import Reader, Dataset, SVD, evaluate"
   ]
  },
  {
   "cell_type": "code",
   "execution_count": 18,
   "metadata": {
    "ExecuteTime": {
     "end_time": "2019-04-15T03:04:31.190058Z",
     "start_time": "2019-04-15T03:04:30.929717Z"
    }
   },
   "outputs": [],
   "source": [
    "reader = Reader()\n",
    "\n",
    "mlData = Dataset.load_from_df(ratings[['userId', 'movieId', 'rating']], reader)\n",
    "\n",
    "# Split the dataset for 5-fold evaluation\n",
    "mlData.split(n_folds=5)"
   ]
  },
  {
   "cell_type": "code",
   "execution_count": 29,
   "metadata": {
    "ExecuteTime": {
     "end_time": "2019-04-15T03:12:20.523806Z",
     "start_time": "2019-04-15T03:11:57.927079Z"
    }
   },
   "outputs": [
    {
     "name": "stderr",
     "output_type": "stream",
     "text": [
      "/home/nikesh/anaconda3/lib/python3.7/site-packages/surprise/evaluate.py:66: UserWarning: The evaluate() method is deprecated. Please use model_selection.cross_validate() instead.\n",
      "  'model_selection.cross_validate() instead.', UserWarning)\n",
      "/home/nikesh/anaconda3/lib/python3.7/site-packages/surprise/dataset.py:193: UserWarning: Using data.split() or using load_from_folds() without using a CV iterator is now deprecated. \n",
      "  UserWarning)\n"
     ]
    },
    {
     "name": "stdout",
     "output_type": "stream",
     "text": [
      "Evaluating RMSE, MAE of algorithm SVD.\n",
      "\n",
      "------------\n",
      "Fold 1\n",
      "RMSE: 0.8718\n",
      "MAE:  0.6707\n",
      "------------\n",
      "Fold 2\n",
      "RMSE: 0.8686\n",
      "MAE:  0.6680\n",
      "------------\n",
      "Fold 3\n",
      "RMSE: 0.8814\n",
      "MAE:  0.6775\n",
      "------------\n",
      "Fold 4\n",
      "RMSE: 0.8787\n",
      "MAE:  0.6751\n",
      "------------\n",
      "Fold 5\n",
      "RMSE: 0.8712\n",
      "MAE:  0.6694\n",
      "------------\n",
      "------------\n",
      "Mean RMSE: 0.8744\n",
      "Mean MAE : 0.6721\n",
      "------------\n",
      "------------\n"
     ]
    }
   ],
   "source": [
    "#SVD algorithm.\n",
    "svd = SVD(n_factors=100, n_epochs=20)\n",
    "\n",
    "# Compute the RMSE of the SVD algorithm.\n",
    "svdResults = evaluate(svd, mlData, measures=['RMSE','MAE'])"
   ]
  },
  {
   "cell_type": "markdown",
   "metadata": {},
   "source": [
    "### Using KNN"
   ]
  },
  {
   "cell_type": "code",
   "execution_count": 24,
   "metadata": {
    "ExecuteTime": {
     "end_time": "2019-04-15T03:09:13.738951Z",
     "start_time": "2019-04-15T03:09:13.734387Z"
    }
   },
   "outputs": [],
   "source": [
    "from surprise import KNNBasic"
   ]
  },
  {
   "cell_type": "code",
   "execution_count": 33,
   "metadata": {
    "ExecuteTime": {
     "end_time": "2019-04-15T03:13:12.761567Z",
     "start_time": "2019-04-15T03:13:05.503395Z"
    }
   },
   "outputs": [
    {
     "name": "stderr",
     "output_type": "stream",
     "text": [
      "/home/nikesh/anaconda3/lib/python3.7/site-packages/surprise/evaluate.py:66: UserWarning: The evaluate() method is deprecated. Please use model_selection.cross_validate() instead.\n",
      "  'model_selection.cross_validate() instead.', UserWarning)\n",
      "/home/nikesh/anaconda3/lib/python3.7/site-packages/surprise/dataset.py:193: UserWarning: Using data.split() or using load_from_folds() without using a CV iterator is now deprecated. \n",
      "  UserWarning)\n"
     ]
    },
    {
     "name": "stdout",
     "output_type": "stream",
     "text": [
      "Evaluating RMSE, MAE of algorithm KNNBasic.\n",
      "\n",
      "------------\n",
      "Fold 1\n",
      "Computing the msd similarity matrix...\n",
      "Done computing similarity matrix.\n",
      "RMSE: 0.9371\n",
      "MAE:  0.7172\n",
      "------------\n",
      "Fold 2\n",
      "Computing the msd similarity matrix...\n",
      "Done computing similarity matrix.\n",
      "RMSE: 0.9333\n",
      "MAE:  0.7123\n",
      "------------\n",
      "Fold 3\n",
      "Computing the msd similarity matrix...\n",
      "Done computing similarity matrix.\n",
      "RMSE: 0.9448\n",
      "MAE:  0.7232\n",
      "------------\n",
      "Fold 4\n",
      "Computing the msd similarity matrix...\n",
      "Done computing similarity matrix.\n",
      "RMSE: 0.9416\n",
      "MAE:  0.7190\n",
      "------------\n",
      "Fold 5\n",
      "Computing the msd similarity matrix...\n",
      "Done computing similarity matrix.\n",
      "RMSE: 0.9425\n",
      "MAE:  0.7214\n",
      "------------\n",
      "------------\n",
      "Mean RMSE: 0.9399\n",
      "Mean MAE : 0.7186\n",
      "------------\n",
      "------------\n"
     ]
    }
   ],
   "source": [
    "knn = KNNBasic(k=20)\n",
    "knnResults = evaluate(knn, mlData, measures=['RMSE','MAE'])"
   ]
  },
  {
   "cell_type": "code",
   "execution_count": 41,
   "metadata": {
    "ExecuteTime": {
     "end_time": "2019-04-15T03:22:12.532718Z",
     "start_time": "2019-04-15T03:22:12.524396Z"
    }
   },
   "outputs": [],
   "source": [
    "RMSE = [np.mean(svdResults['rmse']),np.mean(knnResults['rmse'])]\n",
    "MAE = [np.mean(svdResults['mae']),np.mean(knnResults['mae'])]"
   ]
  },
  {
   "cell_type": "code",
   "execution_count": 48,
   "metadata": {
    "ExecuteTime": {
     "end_time": "2019-04-15T03:25:40.223695Z",
     "start_time": "2019-04-15T03:25:40.044315Z"
    }
   },
   "outputs": [
    {
     "data": {
      "image/png": "[encoded data removed]",
      "text/plain": [
       "<Figure size 432x288 with 1 Axes>"
      ]
     },
     "metadata": {
      "needs_background": "light"
     },
     "output_type": "display_data"
    }
   ],
   "source": [
    "plt.bar([1,2],RMSE,label='RMSE')\n",
    "plt.bar([4,5 ],MAE,label='MAE')\n",
    "plt.xticks([1,2,4,5],['SVD','KNN','SVD','KNN'])\n",
    "plt.legend()\n",
    "plt.show()"
   ]
  },
  {
   "cell_type": "markdown",
   "metadata": {},
   "source": [
    "**It can be observed that SVD perform better than KNN.**"
   ]
  },
  {
   "cell_type": "markdown",
   "metadata": {},
   "source": [
    "## Recommonding the movies to user *'u'*"
   ]
  },
  {
   "cell_type": "code",
   "execution_count": 88,
   "metadata": {
    "ExecuteTime": {
     "end_time": "2019-04-15T04:06:26.504970Z",
     "start_time": "2019-04-15T04:06:26.496911Z"
    }
   },
   "outputs": [
    {
     "data": {
      "text/plain": [
       "[Prediction(uid=582, iid=85414, r_ui=2.5, est=3.475103298349108, details={'was_impossible': False})]"
      ]
     },
     "execution_count": 88,
     "metadata": {},
     "output_type": "execute_result"
    }
   ],
   "source": [
    "svd.test([(582, 85414, 2.5)])"
   ]
  },
  {
   "cell_type": "code",
   "execution_count": 94,
   "metadata": {
    "ExecuteTime": {
     "end_time": "2019-04-15T04:07:59.304348Z",
     "start_time": "2019-04-15T04:07:59.247670Z"
    }
   },
   "outputs": [],
   "source": [
    "alldata = [sm[:3] for sm in mlData.raw_ratings]"
   ]
  },
  {
   "cell_type": "code",
   "execution_count": 96,
   "metadata": {
    "ExecuteTime": {
     "end_time": "2019-04-15T04:08:57.959376Z",
     "start_time": "2019-04-15T04:08:56.727518Z"
    }
   },
   "outputs": [],
   "source": [
    "Pred = svd.test(alldata)\n",
    "Pred = pd.DataFrame(Pred)"
   ]
  },
  {
   "cell_type": "code",
   "execution_count": 98,
   "metadata": {
    "ExecuteTime": {
     "end_time": "2019-04-15T04:09:39.487579Z",
     "start_time": "2019-04-15T04:09:39.459626Z"
    }
   },
   "outputs": [
    {
     "data": {
      "text/html": [
       "<div>\n",
       "<style scoped>\n",
       "    .dataframe tbody tr th:only-of-type {\n",
       "        vertical-align: middle;\n",
       "    }\n",
       "\n",
       "    .dataframe tbody tr th {\n",
       "        vertical-align: top;\n",
       "    }\n",
       "\n",
       "    .dataframe thead th {\n",
       "        text-align: right;\n",
       "    }\n",
       "</style>\n",
       "<table border=\"1\" class=\"dataframe\">\n",
       "  <thead>\n",
       "    <tr style=\"text-align: right;\">\n",
       "      <th></th>\n",
       "      <th>userId</th>\n",
       "      <th>movieId</th>\n",
       "      <th>actual</th>\n",
       "      <th>cf_predictions</th>\n",
       "    </tr>\n",
       "  </thead>\n",
       "  <tbody>\n",
       "    <tr>\n",
       "      <th>0</th>\n",
       "      <td>582</td>\n",
       "      <td>85414</td>\n",
       "      <td>2.5</td>\n",
       "      <td>3.475103</td>\n",
       "    </tr>\n",
       "    <tr>\n",
       "      <th>1</th>\n",
       "      <td>606</td>\n",
       "      <td>2593</td>\n",
       "      <td>3.5</td>\n",
       "      <td>3.393881</td>\n",
       "    </tr>\n",
       "    <tr>\n",
       "      <th>2</th>\n",
       "      <td>603</td>\n",
       "      <td>2973</td>\n",
       "      <td>4.0</td>\n",
       "      <td>3.623578</td>\n",
       "    </tr>\n",
       "    <tr>\n",
       "      <th>3</th>\n",
       "      <td>372</td>\n",
       "      <td>1286</td>\n",
       "      <td>2.0</td>\n",
       "      <td>2.804932</td>\n",
       "    </tr>\n",
       "    <tr>\n",
       "      <th>4</th>\n",
       "      <td>473</td>\n",
       "      <td>4979</td>\n",
       "      <td>4.5</td>\n",
       "      <td>3.965547</td>\n",
       "    </tr>\n",
       "  </tbody>\n",
       "</table>\n",
       "</div>"
      ],
      "text/plain": [
       "   userId  movieId  actual  cf_predictions\n",
       "0     582    85414     2.5        3.475103\n",
       "1     606     2593     3.5        3.393881\n",
       "2     603     2973     4.0        3.623578\n",
       "3     372     1286     2.0        2.804932\n",
       "4     473     4979     4.5        3.965547"
      ]
     },
     "execution_count": 98,
     "metadata": {},
     "output_type": "execute_result"
    }
   ],
   "source": [
    "Pred.drop(\"details\", inplace=True, axis=1)\n",
    "Pred.columns = ['userId', 'movieId', 'actual', 'cf_predictions']\n",
    "Pred.head()"
   ]
  },
  {
   "cell_type": "code",
   "execution_count": 100,
   "metadata": {
    "ExecuteTime": {
     "end_time": "2019-04-15T04:10:33.847027Z",
     "start_time": "2019-04-15T04:10:33.367268Z"
    }
   },
   "outputs": [],
   "source": [
    "PredTable = Pred.pivot_table(index='userId', columns='movieId', values='cf_predictions').fillna(0)"
   ]
  },
  {
   "cell_type": "code",
   "execution_count": 101,
   "metadata": {
    "ExecuteTime": {
     "end_time": "2019-04-15T04:12:35.793934Z",
     "start_time": "2019-04-15T04:12:35.784985Z"
    }
   },
   "outputs": [],
   "source": [
    "def get_rec(userId, n, PredTable):\n",
    "    ri = pd.DataFrame(PredTable.loc[userId])\n",
    "    ri.columns = [\"predicted_rating\"]\n",
    "    ri = ri.sort_values('predicted_rating', ascending=False)    \n",
    "    ri = ri.head(n)\n",
    "    return ri.index.tolist()"
   ]
  },
  {
   "cell_type": "code",
   "execution_count": 109,
   "metadata": {
    "ExecuteTime": {
     "end_time": "2019-04-15T04:14:34.983894Z",
     "start_time": "2019-04-15T04:14:34.964892Z"
    }
   },
   "outputs": [
    {
     "data": {
      "text/html": [
       "<div>\n",
       "<style scoped>\n",
       "    .dataframe tbody tr th:only-of-type {\n",
       "        vertical-align: middle;\n",
       "    }\n",
       "\n",
       "    .dataframe tbody tr th {\n",
       "        vertical-align: top;\n",
       "    }\n",
       "\n",
       "    .dataframe thead th {\n",
       "        text-align: right;\n",
       "    }\n",
       "</style>\n",
       "<table border=\"1\" class=\"dataframe\">\n",
       "  <thead>\n",
       "    <tr style=\"text-align: right;\">\n",
       "      <th></th>\n",
       "      <th>movieId</th>\n",
       "      <th>title</th>\n",
       "      <th>genres</th>\n",
       "    </tr>\n",
       "  </thead>\n",
       "  <tbody>\n",
       "    <tr>\n",
       "      <th>46</th>\n",
       "      <td>50</td>\n",
       "      <td>Usual Suspects, The (1995)</td>\n",
       "      <td>Crime|Mystery|Thriller</td>\n",
       "    </tr>\n",
       "    <tr>\n",
       "      <th>224</th>\n",
       "      <td>260</td>\n",
       "      <td>Star Wars: Episode IV - A New Hope (1977)</td>\n",
       "      <td>Action|Adventure|Sci-Fi</td>\n",
       "    </tr>\n",
       "    <tr>\n",
       "      <th>257</th>\n",
       "      <td>296</td>\n",
       "      <td>Pulp Fiction (1994)</td>\n",
       "      <td>Comedy|Crime|Drama|Thriller</td>\n",
       "    </tr>\n",
       "    <tr>\n",
       "      <th>520</th>\n",
       "      <td>608</td>\n",
       "      <td>Fargo (1996)</td>\n",
       "      <td>Comedy|Crime|Drama|Thriller</td>\n",
       "    </tr>\n",
       "    <tr>\n",
       "      <th>863</th>\n",
       "      <td>1136</td>\n",
       "      <td>Monty Python and the Holy Grail (1975)</td>\n",
       "      <td>Adventure|Comedy|Fantasy</td>\n",
       "    </tr>\n",
       "    <tr>\n",
       "      <th>909</th>\n",
       "      <td>1208</td>\n",
       "      <td>Apocalypse Now (1979)</td>\n",
       "      <td>Action|Drama|War</td>\n",
       "    </tr>\n",
       "    <tr>\n",
       "      <th>911</th>\n",
       "      <td>1210</td>\n",
       "      <td>Star Wars: Episode VI - Return of the Jedi (1983)</td>\n",
       "      <td>Action|Adventure|Sci-Fi</td>\n",
       "    </tr>\n",
       "    <tr>\n",
       "      <th>914</th>\n",
       "      <td>1213</td>\n",
       "      <td>Goodfellas (1990)</td>\n",
       "      <td>Crime|Drama</td>\n",
       "    </tr>\n",
       "    <tr>\n",
       "      <th>990</th>\n",
       "      <td>1291</td>\n",
       "      <td>Indiana Jones and the Last Crusade (1989)</td>\n",
       "      <td>Action|Adventure</td>\n",
       "    </tr>\n",
       "    <tr>\n",
       "      <th>1883</th>\n",
       "      <td>2502</td>\n",
       "      <td>Office Space (1999)</td>\n",
       "      <td>Comedy|Crime</td>\n",
       "    </tr>\n",
       "  </tbody>\n",
       "</table>\n",
       "</div>"
      ],
      "text/plain": [
       "      movieId                                              title  \\\n",
       "46         50                         Usual Suspects, The (1995)   \n",
       "224       260          Star Wars: Episode IV - A New Hope (1977)   \n",
       "257       296                                Pulp Fiction (1994)   \n",
       "520       608                                       Fargo (1996)   \n",
       "863      1136             Monty Python and the Holy Grail (1975)   \n",
       "909      1208                              Apocalypse Now (1979)   \n",
       "911      1210  Star Wars: Episode VI - Return of the Jedi (1983)   \n",
       "914      1213                                  Goodfellas (1990)   \n",
       "990      1291          Indiana Jones and the Last Crusade (1989)   \n",
       "1883     2502                                Office Space (1999)   \n",
       "\n",
       "                           genres  \n",
       "46         Crime|Mystery|Thriller  \n",
       "224       Action|Adventure|Sci-Fi  \n",
       "257   Comedy|Crime|Drama|Thriller  \n",
       "520   Comedy|Crime|Drama|Thriller  \n",
       "863      Adventure|Comedy|Fantasy  \n",
       "909              Action|Drama|War  \n",
       "911       Action|Adventure|Sci-Fi  \n",
       "914                   Crime|Drama  \n",
       "990              Action|Adventure  \n",
       "1883                 Comedy|Crime  "
      ]
     },
     "execution_count": 109,
     "metadata": {},
     "output_type": "execute_result"
    }
   ],
   "source": [
    "rec = get_rec(userId=1, n=10, PredTable=PredTable)\n",
    "movies[movies.movieId.isin(rec)]"
   ]
  },
  {
   "cell_type": "code",
   "execution_count": 107,
   "metadata": {
    "ExecuteTime": {
     "end_time": "2019-04-15T04:14:09.760307Z",
     "start_time": "2019-04-15T04:14:09.735223Z"
    }
   },
   "outputs": [
    {
     "data": {
      "text/html": [
       "<div>\n",
       "<style scoped>\n",
       "    .dataframe tbody tr th:only-of-type {\n",
       "        vertical-align: middle;\n",
       "    }\n",
       "\n",
       "    .dataframe tbody tr th {\n",
       "        vertical-align: top;\n",
       "    }\n",
       "\n",
       "    .dataframe thead th {\n",
       "        text-align: right;\n",
       "    }\n",
       "</style>\n",
       "<table border=\"1\" class=\"dataframe\">\n",
       "  <thead>\n",
       "    <tr style=\"text-align: right;\">\n",
       "      <th></th>\n",
       "      <th>movieId</th>\n",
       "      <th>title</th>\n",
       "      <th>genres</th>\n",
       "    </tr>\n",
       "  </thead>\n",
       "  <tbody>\n",
       "    <tr>\n",
       "      <th>46</th>\n",
       "      <td>50</td>\n",
       "      <td>Usual Suspects, The (1995)</td>\n",
       "      <td>Crime|Mystery|Thriller</td>\n",
       "    </tr>\n",
       "    <tr>\n",
       "      <th>224</th>\n",
       "      <td>260</td>\n",
       "      <td>Star Wars: Episode IV - A New Hope (1977)</td>\n",
       "      <td>Action|Adventure|Sci-Fi</td>\n",
       "    </tr>\n",
       "    <tr>\n",
       "      <th>257</th>\n",
       "      <td>296</td>\n",
       "      <td>Pulp Fiction (1994)</td>\n",
       "      <td>Comedy|Crime|Drama|Thriller</td>\n",
       "    </tr>\n",
       "    <tr>\n",
       "      <th>520</th>\n",
       "      <td>608</td>\n",
       "      <td>Fargo (1996)</td>\n",
       "      <td>Comedy|Crime|Drama|Thriller</td>\n",
       "    </tr>\n",
       "    <tr>\n",
       "      <th>863</th>\n",
       "      <td>1136</td>\n",
       "      <td>Monty Python and the Holy Grail (1975)</td>\n",
       "      <td>Adventure|Comedy|Fantasy</td>\n",
       "    </tr>\n",
       "    <tr>\n",
       "      <th>909</th>\n",
       "      <td>1208</td>\n",
       "      <td>Apocalypse Now (1979)</td>\n",
       "      <td>Action|Drama|War</td>\n",
       "    </tr>\n",
       "    <tr>\n",
       "      <th>911</th>\n",
       "      <td>1210</td>\n",
       "      <td>Star Wars: Episode VI - Return of the Jedi (1983)</td>\n",
       "      <td>Action|Adventure|Sci-Fi</td>\n",
       "    </tr>\n",
       "    <tr>\n",
       "      <th>914</th>\n",
       "      <td>1213</td>\n",
       "      <td>Goodfellas (1990)</td>\n",
       "      <td>Crime|Drama</td>\n",
       "    </tr>\n",
       "    <tr>\n",
       "      <th>990</th>\n",
       "      <td>1291</td>\n",
       "      <td>Indiana Jones and the Last Crusade (1989)</td>\n",
       "      <td>Action|Adventure</td>\n",
       "    </tr>\n",
       "    <tr>\n",
       "      <th>1883</th>\n",
       "      <td>2502</td>\n",
       "      <td>Office Space (1999)</td>\n",
       "      <td>Comedy|Crime</td>\n",
       "    </tr>\n",
       "  </tbody>\n",
       "</table>\n",
       "</div>"
      ],
      "text/plain": [
       "      movieId                                              title  \\\n",
       "46         50                         Usual Suspects, The (1995)   \n",
       "224       260          Star Wars: Episode IV - A New Hope (1977)   \n",
       "257       296                                Pulp Fiction (1994)   \n",
       "520       608                                       Fargo (1996)   \n",
       "863      1136             Monty Python and the Holy Grail (1975)   \n",
       "909      1208                              Apocalypse Now (1979)   \n",
       "911      1210  Star Wars: Episode VI - Return of the Jedi (1983)   \n",
       "914      1213                                  Goodfellas (1990)   \n",
       "990      1291          Indiana Jones and the Last Crusade (1989)   \n",
       "1883     2502                                Office Space (1999)   \n",
       "\n",
       "                           genres  \n",
       "46         Crime|Mystery|Thriller  \n",
       "224       Action|Adventure|Sci-Fi  \n",
       "257   Comedy|Crime|Drama|Thriller  \n",
       "520   Comedy|Crime|Drama|Thriller  \n",
       "863      Adventure|Comedy|Fantasy  \n",
       "909              Action|Drama|War  \n",
       "911       Action|Adventure|Sci-Fi  \n",
       "914                   Crime|Drama  \n",
       "990              Action|Adventure  \n",
       "1883                 Comedy|Crime  "
      ]
     },
     "execution_count": 107,
     "metadata": {},
     "output_type": "execute_result"
    }
   ],
   "source": []
  },
  {
   "cell_type": "markdown",
   "metadata": {},
   "source": [
    "## Deeplearning approach using Embedding-- Not Finished"
   ]
  },
  {
   "cell_type": "code",
   "execution_count": 45,
   "metadata": {
    "ExecuteTime": {
     "end_time": "2019-04-15T04:51:32.370220Z",
     "start_time": "2019-04-15T04:51:32.364672Z"
    }
   },
   "outputs": [],
   "source": [
    "from keras.callbacks import Callback, EarlyStopping, ModelCheckpoint\n",
    "from keras.layers import Embedding, Reshape, Concatenate,Dot,Multiply\n",
    "from keras.models import Sequential"
   ]
  },
  {
   "cell_type": "code",
   "execution_count": 43,
   "metadata": {
    "ExecuteTime": {
     "end_time": "2019-04-15T04:49:48.026966Z",
     "start_time": "2019-04-15T04:49:48.012195Z"
    }
   },
   "outputs": [],
   "source": [
    "class RModel(Sequential):\n",
    "    def __init__(self, nUsers, nMovies, kdimension, **kwargs):\n",
    "        # user embedding matirx\n",
    "        U = Sequential()\n",
    "        U.add(Embedding(nUsers, kdimension, input_length=1))\n",
    "        U.add(Reshape((kdimension,)))\n",
    "\n",
    "        #movie embedding matirx\n",
    "        M = Sequential()\n",
    "        M.add(Embedding(nMovies, kdimension, input_length=1))\n",
    "        M.add(Reshape((kdimension,)))\n",
    "        \n",
    "        super(RModel, self).__init__(**kwargs)\n",
    "        \n",
    "        print(U,M)\n",
    "        \n",
    "        dot_product = Multiply([U, M])\n",
    "        \n",
    "        self.add(dot_product)\n",
    "        \n",
    "    def predict(self, userId, movieId):\n",
    "        return self.predict([np.array([userId]), np.array([movieId])])[0][0]  \n",
    "    "
   ]
  },
  {
   "cell_type": "code",
   "execution_count": 14,
   "metadata": {
    "ExecuteTime": {
     "end_time": "2019-04-15T04:33:52.388509Z",
     "start_time": "2019-04-15T04:33:52.380138Z"
    }
   },
   "outputs": [
    {
     "name": "stdout",
     "output_type": "stream",
     "text": [
      "Number of Users: 610| Number of Movies: 9742\n",
      "Number of total ratings :  100836\n",
      "Rating scale :  [0.5 1.  1.5 2.  2.5 3.  3.5 4.  4.5 5. ]\n"
     ]
    }
   ],
   "source": [
    "nUsers  = len(ratings.userId.unique())\n",
    "nMovies = len(movies.movieId.unique())\n",
    "print('Number of Users: '+ str(nUsers) + '| Number of Movies: ' + str(nMovies))\n",
    "print('Number of total ratings : ',ratings.shape[0])\n",
    "print('Rating scale : ' , np.sort(ratings.rating.unique()))"
   ]
  },
  {
   "cell_type": "code",
   "execution_count": 46,
   "metadata": {
    "ExecuteTime": {
     "end_time": "2019-04-15T04:51:48.709114Z",
     "start_time": "2019-04-15T04:51:48.628826Z"
    }
   },
   "outputs": [
    {
     "name": "stdout",
     "output_type": "stream",
     "text": [
      "<keras.engine.sequential.Sequential object at 0x7f88949b4128> <keras.engine.sequential.Sequential object at 0x7f88d464cf28>\n"
     ]
    }
   ],
   "source": [
    "model = RModel(nUsers, nMovies, kdimension=120)\n",
    "model.compile(loss='mse', optimizer='adam')"
   ]
  },
  {
   "cell_type": "code",
   "execution_count": 47,
   "metadata": {
    "ExecuteTime": {
     "end_time": "2019-04-15T05:00:35.457742Z",
     "start_time": "2019-04-15T05:00:35.450887Z"
    }
   },
   "outputs": [],
   "source": [
    "Users  = np.array(ratings.userId)\n",
    "Movies = np.array(ratings.movieId)\n",
    "Ratings= np.array(ratings.rating)"
   ]
  },
  {
   "cell_type": "code",
   "execution_count": 50,
   "metadata": {
    "ExecuteTime": {
     "end_time": "2019-04-15T05:01:48.361757Z",
     "start_time": "2019-04-15T05:01:48.354168Z"
    }
   },
   "outputs": [
    {
     "data": {
      "text/plain": [
       "(array([  1,   1,   1, ..., 610, 610, 610]),\n",
       " array([     1,      3,      6, ..., 168250, 168252, 170875]),\n",
       " array([4., 4., 4., ..., 5., 5., 3.]))"
      ]
     },
     "execution_count": 50,
     "metadata": {},
     "output_type": "execute_result"
    }
   ],
   "source": [
    "Users,Movies,Ratings, "
   ]
  },
  {
   "cell_type": "markdown",
   "metadata": {},
   "source": [
    "**Nikesh Bajaj**"
   ]
  }
 ],
 "metadata": {
  "kernelspec": {
   "display_name": "Python 3",
   "language": "python",
   "name": "python3"
  },
  "language_info": {
   "codemirror_mode": {
    "name": "ipython",
    "version": 3
   },
   "file_extension": ".py",
   "mimetype": "text/x-python",
   "name": "python",
   "nbconvert_exporter": "python",
   "pygments_lexer": "ipython3",
   "version": "3.7.1"
  },
  "toc": {
   "base_numbering": 1,
   "nav_menu": {},
   "number_sections": true,
   "sideBar": true,
   "skip_h1_title": true,
   "title_cell": "Table of Contents",
   "title_sidebar": "Contents",
   "toc_cell": true,
   "toc_position": {},
   "toc_section_display": true,
   "toc_window_display": true
  }
 },
 "nbformat": 4,
 "nbformat_minor": 2
}
